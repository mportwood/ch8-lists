{
 "cells": [
  {
   "cell_type": "markdown",
   "metadata": {},
   "source": [
    "# Exercise 2\n",
    "Add the specified code for each code cell, running the cells _in order_."
   ]
  },
  {
   "cell_type": "markdown",
   "metadata": {},
   "source": [
    "Define a function **`count_evens()`** that takes in a _list_ of integers and returns the number that are even (divisible by two). You can use the modulo operator **`%`** to get the remainder when dividing by 2 (e.g., `5%2 == 1`).\n",
    "- This problem is adapted from [CodingBat](http://codingbat.com/prob/p189616), and you can also check your work there!"
   ]
  },
  {
   "cell_type": "code",
   "execution_count": 34,
   "metadata": {},
   "outputs": [
    {
     "data": {
      "text/plain": [
       "3"
      ]
     },
     "execution_count": 34,
     "metadata": {},
     "output_type": "execute_result"
    }
   ],
   "source": [
    "# ##Start simple with scaffolding\n",
    "# # What does this function do in human words? \n",
    "# def count_evens(a_list):\n",
    "#     #number_even = 0\n",
    "#     return (number_even)\n",
    "\n",
    "##If a function is a recipe, I'm passing it the ingredients ([1,2])\n",
    "# count_evens([1,2])\n",
    "\n",
    "def count_evens(a_list):\n",
    "    number_even = 0\n",
    "    for number in a_list: \n",
    "        if number % 2 == 0: \n",
    "            number_even = number_even + 1\n",
    "    return (number_even)\n",
    "\n",
    "count_evens([1,2,3,4,5,6, 33, 11, 12.34, 43.1])"
   ]
  },
  {
   "cell_type": "markdown",
   "metadata": {},
   "source": [
    "Define a function **`get_even_indices()`** that takes in a _list_ of integers and returns a _list_ containing the indices of the elements with even values."
   ]
  },
  {
   "cell_type": "code",
   "execution_count": 64,
   "metadata": {},
   "outputs": [
    {
     "data": {
      "text/plain": [
       "[1, 3, 5]"
      ]
     },
     "execution_count": 64,
     "metadata": {},
     "output_type": "execute_result"
    }
   ],
   "source": [
    "def get_even_indices(a_list): \n",
    "    list_indices = [] #initialize an empty list to fill later\n",
    "    for i in range(len(a_list)): #equivalent to for i in range(5)\n",
    "        if a_list[i] %2 == 0: #the object at the index\n",
    "            list_indices.append(i)\n",
    "    \n",
    "    return list_indices\n",
    "\n",
    "## Test: pass\n",
    "get_even_indices([1,2,3,4,5,6])"
   ]
  },
  {
   "cell_type": "markdown",
   "metadata": {},
   "source": [
    "Define a function **`rotate_left()`** that takes in a _list_ of elements and \"rotates\" it by moving each element in that list 1 spot to the left, with the first element becoming the last:\n",
    "```python\n",
    "my_list = [1,2,3,4]\n",
    "rotate_left(my_list)\n",
    "print(my_list)  # [2,3,4,1]\n",
    "```\n",
    "For practice, try to do this using a loop (it's more complicated, but good loop/index practice)"
   ]
  },
  {
   "cell_type": "code",
   "execution_count": 105,
   "metadata": {},
   "outputs": [
    {
     "name": "stdout",
     "output_type": "stream",
     "text": [
      "[2, 3, 4, 1]\n"
     ]
    }
   ],
   "source": [
    "##Scaffolding Example\n",
    "\n",
    "# def rotate_left(a_list): \n",
    "#     left_list = []\n",
    "#     #work\n",
    "#     return left_list\n",
    "\n",
    "# my_list = [1,2,3,4]\n",
    "# rotate_left(my_list)\n",
    "# print(my_list)  # [2,3,4,1] \n",
    "\n",
    "##End Scallolding\n",
    "\n",
    "##Option 1: append\n",
    "def rotate_left(a_list): \n",
    "    left_list = a_list[0]\n",
    "    for i in range(1, len(a_list)): #1 starting at 1 index, not 0\n",
    "        #2 set current index-1 = value at current index (push #s left)\n",
    "        a_list[i-1] = a_list[i]\n",
    "    a_list[-1] = left_list #3 set last digit equal to our starting place\n",
    "\n",
    "##Option 2: Append/Pop\n",
    "# def rotate_left(arg):\n",
    "#     arg.append(arg.pop(0)) #Append to arg, the thing you're popping off\n",
    "\n",
    "# ## Option 3: slicing\n",
    "# def rotate_left(arg):\n",
    "#     #without a loop (slicing and multi assignment!)\n",
    "#     head = arg[0]\n",
    "#     arg[:-1] = arg[1:]\n",
    "#     arg[-1] = head   \n",
    "    \n",
    "my_list = [1,2,3,4]\n",
    "rotate_left(my_list)\n",
    "print(my_list)  # [2,3,4,1] "
   ]
  },
  {
   "cell_type": "markdown",
   "metadata": {},
   "source": [
    "_Challenge_ A [Caesarean Cipher](https://en.wikipedia.org/wiki/Caesar_cipher) is a simple and ancient encryption technique. It works by taking the a string of text and \"rotating\" each letter a fixed number of places down the alphabet. Thus if the \"rotation\" number is \"3\", then a `A` (the 1st letter) would become a `D` (the 4th), a `B` would become a `E`, and a `Z` would wrap around to become a `C`.\n",
    "\n",
    "Define a method `rotate_text()` that takes in two arguments: a string to encrypt and a number of places to shift each letter. The method should return an \"encrypted\" version of the string, with each letter shifted the appropriate amount. Note that this method can also be used to \"decrypt\" text by shifting in the opposite direction (e.g., a negative amount).\n",
    "- You can convert the argument to uppercase for ease of processing, and to a list of letters if you wish to mutate it.\n",
    "- You can create use a string of all the letters (which is itself a sequence with indices) to look up the shifted rotated letters. The [find()](https://docs.python.org/3/library/stdtypes.html#str.find) string method could help."
   ]
  },
  {
   "cell_type": "code",
   "execution_count": 135,
   "metadata": {},
   "outputs": [
    {
     "data": {
      "text/plain": [
       "'SPEND SOME TIME, DOES IT MAKE SENSE?'"
      ]
     },
     "execution_count": 135,
     "metadata": {},
     "output_type": "execute_result"
    }
   ],
   "source": [
    "def rotate_text(str_arg, index): \n",
    "    text_list = list(str_arg.upper()) #Takes whatever string is passed and produces a list\n",
    "    alpha = \"ABCDEFGHIJKLMNOPQRSTUVWXYZ\"\n",
    "    for i in range(len(text_list)): #for each index in my input string\n",
    "        letter = text_list[i]\n",
    "        letter_index = alpha.find(letter)\n",
    "        if letter_index >=0: #so, if is a letter\n",
    "            text_list[i] = alpha[(letter_index+index)%26] #tricky part\n",
    "    return \"\".join(text_list) #even trickier\n",
    "\n",
    "rotate_text('NKZIY NJHZ ODHZ, YJZN DO HVFZ NZINZ?', 5) "
   ]
  },
  {
   "cell_type": "code",
   "execution_count": null,
   "metadata": {},
   "outputs": [],
   "source": []
  }
 ],
 "metadata": {
  "kernelspec": {
   "display_name": "Python 3",
   "language": "python",
   "name": "python3"
  },
  "language_info": {
   "codemirror_mode": {
    "name": "ipython",
    "version": 3
   },
   "file_extension": ".py",
   "mimetype": "text/x-python",
   "name": "python",
   "nbconvert_exporter": "python",
   "pygments_lexer": "ipython3",
   "version": "3.7.0"
  },
  "toc": {
   "colors": {
    "hover_highlight": "#DAA520",
    "running_highlight": "#FF0000",
    "selected_highlight": "#FFD700"
   },
   "moveMenuLeft": true,
   "nav_menu": {
    "height": "30px",
    "width": "252px"
   },
   "navigate_menu": true,
   "number_sections": true,
   "sideBar": true,
   "threshold": 4,
   "toc_cell": false,
   "toc_section_display": "block",
   "toc_window_display": false,
   "widenNotebook": false
  }
 },
 "nbformat": 4,
 "nbformat_minor": 2
}
